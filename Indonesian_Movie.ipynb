{
  "nbformat": 4,
  "nbformat_minor": 0,
  "metadata": {
    "kernelspec": {
      "language": "python",
      "display_name": "Python 3",
      "name": "python3"
    },
    "language_info": {
      "pygments_lexer": "ipython3",
      "nbconvert_exporter": "python",
      "version": "3.6.4",
      "file_extension": ".py",
      "codemirror_mode": {
        "name": "ipython",
        "version": 3
      },
      "name": "python",
      "mimetype": "text/x-python"
    },
    "colab": {
      "name": "Indonesian Movie.ipynb",
      "provenance": [],
      "collapsed_sections": [],
      "include_colab_link": true
    },
    "accelerator": "GPU"
  },
  "cells": [
    {
      "cell_type": "markdown",
      "metadata": {
        "id": "view-in-github",
        "colab_type": "text"
      },
      "source": [
        "<a href=\"https://colab.research.google.com/github/zakkaizzatur/Data-Related-Projects/blob/main/Indonesian_Movie.ipynb\" target=\"_parent\"><img src=\"https://colab.research.google.com/assets/colab-badge.svg\" alt=\"Open In Colab\"/></a>"
      ]
    },
    {
      "cell_type": "markdown",
      "metadata": {
        "id": "SY6vR9smhzwQ"
      },
      "source": [
        ""
      ]
    },
    {
      "cell_type": "code",
      "metadata": {
        "_uuid": "8f2839f25d086af736a60e9eeb907d3b93b6e0e5",
        "_cell_guid": "b1076dfc-b9ad-4769-8c92-a6c4dae69d19",
        "execution": {
          "iopub.status.busy": "2021-06-19T07:08:35.763872Z",
          "iopub.execute_input": "2021-06-19T07:08:35.764335Z",
          "iopub.status.idle": "2021-06-19T07:08:35.779219Z",
          "shell.execute_reply.started": "2021-06-19T07:08:35.764237Z",
          "shell.execute_reply": "2021-06-19T07:08:35.777996Z"
        },
        "trusted": true,
        "id": "BRUOj_piEpM1"
      },
      "source": [
        "import numpy as np # linear algebra\n",
        "import pandas as pd # data processing, CSV file I/O (e.g. pd.read_csv)"
      ],
      "execution_count": 1,
      "outputs": []
    },
    {
      "cell_type": "code",
      "metadata": {
        "id": "znYDC4ZYbT5f"
      },
      "source": [
        "import os\n",
        "os.environ['KAGGLE_USERNAME'] = 'zakkaizzatur'\n",
        "os.environ['KAGGLE_KEY'] = 'ebfe0360db68f192c2b32c725f0c6b43'"
      ],
      "execution_count": 2,
      "outputs": []
    },
    {
      "cell_type": "code",
      "metadata": {
        "colab": {
          "base_uri": "https://localhost:8080/"
        },
        "id": "sj8JqTb5bNEI",
        "outputId": "3aa88fa2-0ed9-4586-d672-ce9fc9f5653e"
      },
      "source": [
        "!kaggle datasets download -d antoniuscs/imdb-synopsis-indonesian-movies"
      ],
      "execution_count": 3,
      "outputs": [
        {
          "output_type": "stream",
          "text": [
            "Downloading imdb-synopsis-indonesian-movies.zip to /content\n",
            "\r  0% 0.00/299k [00:00<?, ?B/s]\n",
            "\r100% 299k/299k [00:00<00:00, 44.5MB/s]\n"
          ],
          "name": "stdout"
        }
      ]
    },
    {
      "cell_type": "code",
      "metadata": {
        "execution": {
          "iopub.status.busy": "2021-06-19T07:08:51.173219Z",
          "iopub.execute_input": "2021-06-19T07:08:51.173691Z",
          "iopub.status.idle": "2021-06-19T07:08:51.177401Z",
          "shell.execute_reply.started": "2021-06-19T07:08:51.173648Z",
          "shell.execute_reply": "2021-06-19T07:08:51.176397Z"
        },
        "trusted": true,
        "id": "NxcIY8V-EpM6"
      },
      "source": [
        "!unzip -q imdb-synopsis-indonesian-movies.zip -d ."
      ],
      "execution_count": 4,
      "outputs": []
    },
    {
      "cell_type": "code",
      "metadata": {
        "id": "6hM8GCesbzLk"
      },
      "source": [
        "link = '/content/imdb_indonesian_movies_2.csv'"
      ],
      "execution_count": 5,
      "outputs": []
    },
    {
      "cell_type": "code",
      "metadata": {
        "execution": {
          "iopub.status.busy": "2021-06-19T07:09:00.958174Z",
          "iopub.execute_input": "2021-06-19T07:09:00.958699Z",
          "iopub.status.idle": "2021-06-19T07:09:00.999731Z",
          "shell.execute_reply.started": "2021-06-19T07:09:00.958661Z",
          "shell.execute_reply": "2021-06-19T07:09:00.998685Z"
        },
        "trusted": true,
        "id": "sfYQK7kOEpM6"
      },
      "source": [
        "df = pd.read_csv(link)"
      ],
      "execution_count": 6,
      "outputs": []
    },
    {
      "cell_type": "code",
      "metadata": {
        "execution": {
          "iopub.status.busy": "2021-06-19T07:09:03.374777Z",
          "iopub.execute_input": "2021-06-19T07:09:03.375173Z",
          "iopub.status.idle": "2021-06-19T07:09:03.402775Z",
          "shell.execute_reply.started": "2021-06-19T07:09:03.37514Z",
          "shell.execute_reply": "2021-06-19T07:09:03.40188Z"
        },
        "trusted": true,
        "id": "V0wzmjuTEpM7",
        "colab": {
          "base_uri": "https://localhost:8080/",
          "height": 203
        },
        "outputId": "180d28ec-efca-4f40-a54b-1e0ea8f6594e"
      },
      "source": [
        "df.head()"
      ],
      "execution_count": 7,
      "outputs": [
        {
          "output_type": "execute_result",
          "data": {
            "text/html": [
              "<div>\n",
              "<style scoped>\n",
              "    .dataframe tbody tr th:only-of-type {\n",
              "        vertical-align: middle;\n",
              "    }\n",
              "\n",
              "    .dataframe tbody tr th {\n",
              "        vertical-align: top;\n",
              "    }\n",
              "\n",
              "    .dataframe thead th {\n",
              "        text-align: right;\n",
              "    }\n",
              "</style>\n",
              "<table border=\"1\" class=\"dataframe\">\n",
              "  <thead>\n",
              "    <tr style=\"text-align: right;\">\n",
              "      <th></th>\n",
              "      <th>judul_film</th>\n",
              "      <th>ringkasan_sinopsis</th>\n",
              "      <th>genre</th>\n",
              "    </tr>\n",
              "  </thead>\n",
              "  <tbody>\n",
              "    <tr>\n",
              "      <th>0</th>\n",
              "      <td>Sunan Kalijaga</td>\n",
              "      <td>Raden Mas Said putra sulung Tumenggung Wilarik...</td>\n",
              "      <td>Drama</td>\n",
              "    </tr>\n",
              "    <tr>\n",
              "      <th>1</th>\n",
              "      <td>Gie</td>\n",
              "      <td>Soe Hok Gie adalah seorang aktivis yang hidup ...</td>\n",
              "      <td>Drama</td>\n",
              "    </tr>\n",
              "    <tr>\n",
              "      <th>2</th>\n",
              "      <td>Guru Bangsa Tjokroaminoto</td>\n",
              "      <td>Guru Bangsa Tjokroaminoto menceritakan tentang...</td>\n",
              "      <td>Drama</td>\n",
              "    </tr>\n",
              "    <tr>\n",
              "      <th>3</th>\n",
              "      <td>POL Movie</td>\n",
              "      <td>POL menceritakan kisah hidup yang luar biasa d...</td>\n",
              "      <td>Drama</td>\n",
              "    </tr>\n",
              "    <tr>\n",
              "      <th>4</th>\n",
              "      <td>Sang pencerah</td>\n",
              "      <td>Perjalanan pahlawan Indonesia KH Ahmad Dahlan ...</td>\n",
              "      <td>Drama</td>\n",
              "    </tr>\n",
              "  </tbody>\n",
              "</table>\n",
              "</div>"
            ],
            "text/plain": [
              "                  judul_film  ...  genre\n",
              "0             Sunan Kalijaga  ...  Drama\n",
              "1                        Gie  ...  Drama\n",
              "2  Guru Bangsa Tjokroaminoto  ...  Drama\n",
              "3                  POL Movie  ...  Drama\n",
              "4              Sang pencerah  ...  Drama\n",
              "\n",
              "[5 rows x 3 columns]"
            ]
          },
          "metadata": {
            "tags": []
          },
          "execution_count": 7
        }
      ]
    },
    {
      "cell_type": "code",
      "metadata": {
        "execution": {
          "iopub.status.busy": "2021-06-19T07:09:32.498927Z",
          "iopub.execute_input": "2021-06-19T07:09:32.499287Z",
          "iopub.status.idle": "2021-06-19T07:09:32.504563Z",
          "shell.execute_reply.started": "2021-06-19T07:09:32.499257Z",
          "shell.execute_reply": "2021-06-19T07:09:32.503438Z"
        },
        "trusted": true,
        "id": "1JnMt79EEpM7"
      },
      "source": [
        "df.drop(columns=['judul_film'], inplace=True)"
      ],
      "execution_count": 8,
      "outputs": []
    },
    {
      "cell_type": "code",
      "metadata": {
        "colab": {
          "base_uri": "https://localhost:8080/",
          "height": 203
        },
        "id": "hO8XnOGMb-L5",
        "outputId": "3c9ec97a-9800-400c-c4bd-54ed0b2ead7f"
      },
      "source": [
        "df.head()"
      ],
      "execution_count": 9,
      "outputs": [
        {
          "output_type": "execute_result",
          "data": {
            "text/html": [
              "<div>\n",
              "<style scoped>\n",
              "    .dataframe tbody tr th:only-of-type {\n",
              "        vertical-align: middle;\n",
              "    }\n",
              "\n",
              "    .dataframe tbody tr th {\n",
              "        vertical-align: top;\n",
              "    }\n",
              "\n",
              "    .dataframe thead th {\n",
              "        text-align: right;\n",
              "    }\n",
              "</style>\n",
              "<table border=\"1\" class=\"dataframe\">\n",
              "  <thead>\n",
              "    <tr style=\"text-align: right;\">\n",
              "      <th></th>\n",
              "      <th>ringkasan_sinopsis</th>\n",
              "      <th>genre</th>\n",
              "    </tr>\n",
              "  </thead>\n",
              "  <tbody>\n",
              "    <tr>\n",
              "      <th>0</th>\n",
              "      <td>Raden Mas Said putra sulung Tumenggung Wilarik...</td>\n",
              "      <td>Drama</td>\n",
              "    </tr>\n",
              "    <tr>\n",
              "      <th>1</th>\n",
              "      <td>Soe Hok Gie adalah seorang aktivis yang hidup ...</td>\n",
              "      <td>Drama</td>\n",
              "    </tr>\n",
              "    <tr>\n",
              "      <th>2</th>\n",
              "      <td>Guru Bangsa Tjokroaminoto menceritakan tentang...</td>\n",
              "      <td>Drama</td>\n",
              "    </tr>\n",
              "    <tr>\n",
              "      <th>3</th>\n",
              "      <td>POL menceritakan kisah hidup yang luar biasa d...</td>\n",
              "      <td>Drama</td>\n",
              "    </tr>\n",
              "    <tr>\n",
              "      <th>4</th>\n",
              "      <td>Perjalanan pahlawan Indonesia KH Ahmad Dahlan ...</td>\n",
              "      <td>Drama</td>\n",
              "    </tr>\n",
              "  </tbody>\n",
              "</table>\n",
              "</div>"
            ],
            "text/plain": [
              "                                  ringkasan_sinopsis  genre\n",
              "0  Raden Mas Said putra sulung Tumenggung Wilarik...  Drama\n",
              "1  Soe Hok Gie adalah seorang aktivis yang hidup ...  Drama\n",
              "2  Guru Bangsa Tjokroaminoto menceritakan tentang...  Drama\n",
              "3  POL menceritakan kisah hidup yang luar biasa d...  Drama\n",
              "4  Perjalanan pahlawan Indonesia KH Ahmad Dahlan ...  Drama"
            ]
          },
          "metadata": {
            "tags": []
          },
          "execution_count": 9
        }
      ]
    },
    {
      "cell_type": "code",
      "metadata": {
        "execution": {
          "iopub.status.busy": "2021-06-19T07:10:19.886056Z",
          "iopub.execute_input": "2021-06-19T07:10:19.886605Z",
          "iopub.status.idle": "2021-06-19T07:10:19.896694Z",
          "shell.execute_reply.started": "2021-06-19T07:10:19.886561Z",
          "shell.execute_reply": "2021-06-19T07:10:19.895968Z"
        },
        "trusted": true,
        "id": "CHKKplczEpM8"
      },
      "source": [
        "df_baru = pd.concat([df, pd.get_dummies(df.genre)], axis=1)"
      ],
      "execution_count": 10,
      "outputs": []
    },
    {
      "cell_type": "code",
      "metadata": {
        "execution": {
          "iopub.status.busy": "2021-06-19T07:10:38.291627Z",
          "iopub.execute_input": "2021-06-19T07:10:38.292153Z",
          "iopub.status.idle": "2021-06-19T07:10:38.29669Z",
          "shell.execute_reply.started": "2021-06-19T07:10:38.292121Z",
          "shell.execute_reply": "2021-06-19T07:10:38.295891Z"
        },
        "trusted": true,
        "id": "wjKYtB0wEpM8"
      },
      "source": [
        "df_baru.drop(columns='genre', inplace=True)"
      ],
      "execution_count": 11,
      "outputs": []
    },
    {
      "cell_type": "code",
      "metadata": {
        "execution": {
          "iopub.status.busy": "2021-06-19T07:10:40.954438Z",
          "iopub.execute_input": "2021-06-19T07:10:40.954792Z",
          "iopub.status.idle": "2021-06-19T07:10:40.970583Z",
          "shell.execute_reply.started": "2021-06-19T07:10:40.954764Z",
          "shell.execute_reply": "2021-06-19T07:10:40.969615Z"
        },
        "trusted": true,
        "id": "NnEY54BnEpM9",
        "colab": {
          "base_uri": "https://localhost:8080/",
          "height": 203
        },
        "outputId": "32937d89-102b-4dbe-d2ef-21aa96a2a3fb"
      },
      "source": [
        "df_baru.head()"
      ],
      "execution_count": 12,
      "outputs": [
        {
          "output_type": "execute_result",
          "data": {
            "text/html": [
              "<div>\n",
              "<style scoped>\n",
              "    .dataframe tbody tr th:only-of-type {\n",
              "        vertical-align: middle;\n",
              "    }\n",
              "\n",
              "    .dataframe tbody tr th {\n",
              "        vertical-align: top;\n",
              "    }\n",
              "\n",
              "    .dataframe thead th {\n",
              "        text-align: right;\n",
              "    }\n",
              "</style>\n",
              "<table border=\"1\" class=\"dataframe\">\n",
              "  <thead>\n",
              "    <tr style=\"text-align: right;\">\n",
              "      <th></th>\n",
              "      <th>ringkasan_sinopsis</th>\n",
              "      <th>Drama</th>\n",
              "      <th>Horor</th>\n",
              "      <th>Komedi</th>\n",
              "      <th>Laga</th>\n",
              "      <th>Romantis</th>\n",
              "    </tr>\n",
              "  </thead>\n",
              "  <tbody>\n",
              "    <tr>\n",
              "      <th>0</th>\n",
              "      <td>Raden Mas Said putra sulung Tumenggung Wilarik...</td>\n",
              "      <td>1</td>\n",
              "      <td>0</td>\n",
              "      <td>0</td>\n",
              "      <td>0</td>\n",
              "      <td>0</td>\n",
              "    </tr>\n",
              "    <tr>\n",
              "      <th>1</th>\n",
              "      <td>Soe Hok Gie adalah seorang aktivis yang hidup ...</td>\n",
              "      <td>1</td>\n",
              "      <td>0</td>\n",
              "      <td>0</td>\n",
              "      <td>0</td>\n",
              "      <td>0</td>\n",
              "    </tr>\n",
              "    <tr>\n",
              "      <th>2</th>\n",
              "      <td>Guru Bangsa Tjokroaminoto menceritakan tentang...</td>\n",
              "      <td>1</td>\n",
              "      <td>0</td>\n",
              "      <td>0</td>\n",
              "      <td>0</td>\n",
              "      <td>0</td>\n",
              "    </tr>\n",
              "    <tr>\n",
              "      <th>3</th>\n",
              "      <td>POL menceritakan kisah hidup yang luar biasa d...</td>\n",
              "      <td>1</td>\n",
              "      <td>0</td>\n",
              "      <td>0</td>\n",
              "      <td>0</td>\n",
              "      <td>0</td>\n",
              "    </tr>\n",
              "    <tr>\n",
              "      <th>4</th>\n",
              "      <td>Perjalanan pahlawan Indonesia KH Ahmad Dahlan ...</td>\n",
              "      <td>1</td>\n",
              "      <td>0</td>\n",
              "      <td>0</td>\n",
              "      <td>0</td>\n",
              "      <td>0</td>\n",
              "    </tr>\n",
              "  </tbody>\n",
              "</table>\n",
              "</div>"
            ],
            "text/plain": [
              "                                  ringkasan_sinopsis  Drama  ...  Laga  Romantis\n",
              "0  Raden Mas Said putra sulung Tumenggung Wilarik...      1  ...     0         0\n",
              "1  Soe Hok Gie adalah seorang aktivis yang hidup ...      1  ...     0         0\n",
              "2  Guru Bangsa Tjokroaminoto menceritakan tentang...      1  ...     0         0\n",
              "3  POL menceritakan kisah hidup yang luar biasa d...      1  ...     0         0\n",
              "4  Perjalanan pahlawan Indonesia KH Ahmad Dahlan ...      1  ...     0         0\n",
              "\n",
              "[5 rows x 6 columns]"
            ]
          },
          "metadata": {
            "tags": []
          },
          "execution_count": 12
        }
      ]
    },
    {
      "cell_type": "code",
      "metadata": {
        "execution": {
          "iopub.status.busy": "2021-06-19T07:11:28.32246Z",
          "iopub.execute_input": "2021-06-19T07:11:28.32282Z",
          "iopub.status.idle": "2021-06-19T07:11:28.32863Z",
          "shell.execute_reply.started": "2021-06-19T07:11:28.322791Z",
          "shell.execute_reply": "2021-06-19T07:11:28.327889Z"
        },
        "trusted": true,
        "id": "sX4DUI63EpM9"
      },
      "source": [
        "sinopsis = df_baru['ringkasan_sinopsis'].values\n",
        "label = df_baru[['Drama', 'Horor', 'Komedi', 'Laga', 'Romantis']].values"
      ],
      "execution_count": 13,
      "outputs": []
    },
    {
      "cell_type": "code",
      "metadata": {
        "execution": {
          "iopub.status.busy": "2021-06-19T07:11:37.385429Z",
          "iopub.execute_input": "2021-06-19T07:11:37.385794Z",
          "iopub.status.idle": "2021-06-19T07:11:38.378177Z",
          "shell.execute_reply.started": "2021-06-19T07:11:37.385769Z",
          "shell.execute_reply": "2021-06-19T07:11:38.377412Z"
        },
        "trusted": true,
        "id": "4g7elCLTEpM-"
      },
      "source": [
        "from sklearn.model_selection import train_test_split\n",
        "sinopsis_latih, sinopsis_test, label_latih, label_test = train_test_split(sinopsis, label, test_size=0.2)"
      ],
      "execution_count": 14,
      "outputs": []
    },
    {
      "cell_type": "code",
      "metadata": {
        "execution": {
          "iopub.status.busy": "2021-06-19T07:11:55.685408Z",
          "iopub.execute_input": "2021-06-19T07:11:55.686021Z",
          "iopub.status.idle": "2021-06-19T07:12:01.056434Z",
          "shell.execute_reply.started": "2021-06-19T07:11:55.685983Z",
          "shell.execute_reply": "2021-06-19T07:12:01.055634Z"
        },
        "trusted": true,
        "id": "R0xzffxvEpM-"
      },
      "source": [
        "from tensorflow.keras.preprocessing.text import Tokenizer\n",
        "from tensorflow.keras.preprocessing.sequence import pad_sequences\n",
        " \n",
        "tokenizer = Tokenizer(num_words=6000, oov_token='x')\n",
        "tokenizer.fit_on_texts(sinopsis_latih) \n",
        "tokenizer.fit_on_texts(sinopsis_test)\n",
        " \n",
        "sekuens_latih = tokenizer.texts_to_sequences(sinopsis_latih)\n",
        "sekuens_test = tokenizer.texts_to_sequences(sinopsis_test)\n",
        " \n",
        "padded_latih = pad_sequences(sekuens_latih) \n",
        "padded_test = pad_sequences(sekuens_test)"
      ],
      "execution_count": 15,
      "outputs": []
    },
    {
      "cell_type": "code",
      "metadata": {
        "execution": {
          "iopub.status.busy": "2021-06-19T07:12:16.51688Z",
          "iopub.execute_input": "2021-06-19T07:12:16.517223Z",
          "iopub.status.idle": "2021-06-19T07:12:16.908215Z",
          "shell.execute_reply.started": "2021-06-19T07:12:16.517196Z",
          "shell.execute_reply": "2021-06-19T07:12:16.907369Z"
        },
        "trusted": true,
        "id": "S9ZmJjWtEpM_"
      },
      "source": [
        "import tensorflow as tf\n",
        "model = tf.keras.Sequential([\n",
        "    tf.keras.layers.Embedding(input_dim=len(tokenizer.index_word), output_dim=16),\n",
        "    tf.keras.layers.LSTM(64),\n",
        "    tf.keras.layers.Dense(128, activation='relu'),\n",
        "    tf.keras.layers.Dropout(0.5),\n",
        "    tf.keras.layers.Dense(64, activation='relu'),\n",
        "    tf.keras.layers.Dropout(0.5),\n",
        "    tf.keras.layers.Dense(5, activation='softmax')\n",
        "])\n",
        "model.compile(loss='categorical_crossentropy',optimizer='adam',metrics=['accuracy'])"
      ],
      "execution_count": 19,
      "outputs": []
    },
    {
      "cell_type": "code",
      "metadata": {
        "colab": {
          "base_uri": "https://localhost:8080/"
        },
        "id": "ebt3ti8gdlnZ",
        "outputId": "400df5c8-f28b-493d-c57b-3508e3096532"
      },
      "source": [
        "model.summary()"
      ],
      "execution_count": 20,
      "outputs": [
        {
          "output_type": "stream",
          "text": [
            "Model: \"sequential_1\"\n",
            "_________________________________________________________________\n",
            "Layer (type)                 Output Shape              Param #   \n",
            "=================================================================\n",
            "embedding_1 (Embedding)      (None, None, 16)          218832    \n",
            "_________________________________________________________________\n",
            "lstm_1 (LSTM)                (None, 64)                20736     \n",
            "_________________________________________________________________\n",
            "dense_3 (Dense)              (None, 128)               8320      \n",
            "_________________________________________________________________\n",
            "dropout (Dropout)            (None, 128)               0         \n",
            "_________________________________________________________________\n",
            "dense_4 (Dense)              (None, 64)                8256      \n",
            "_________________________________________________________________\n",
            "dropout_1 (Dropout)          (None, 64)                0         \n",
            "_________________________________________________________________\n",
            "dense_5 (Dense)              (None, 5)                 325       \n",
            "=================================================================\n",
            "Total params: 256,469\n",
            "Trainable params: 256,469\n",
            "Non-trainable params: 0\n",
            "_________________________________________________________________\n"
          ],
          "name": "stdout"
        }
      ]
    },
    {
      "cell_type": "code",
      "metadata": {
        "execution": {
          "iopub.status.busy": "2021-06-19T07:12:24.629266Z",
          "iopub.execute_input": "2021-06-19T07:12:24.629865Z",
          "iopub.status.idle": "2021-06-19T07:24:22.925927Z",
          "shell.execute_reply.started": "2021-06-19T07:12:24.629814Z",
          "shell.execute_reply": "2021-06-19T07:24:22.925046Z"
        },
        "trusted": true,
        "id": "A4OE0JvVEpM_",
        "colab": {
          "base_uri": "https://localhost:8080/"
        },
        "outputId": "56b7a9a4-7a07-488f-a96b-ada26009b9bd"
      },
      "source": [
        "num_epochs = 30\n",
        "history = model.fit(padded_latih, label_latih, epochs=num_epochs, \n",
        "                    validation_data=(padded_test, label_test), verbose=2)"
      ],
      "execution_count": 23,
      "outputs": [
        {
          "output_type": "stream",
          "text": [
            "Epoch 1/30\n",
            "26/26 - 5s - loss: 0.0023 - accuracy: 1.0000 - val_loss: 8.7173 - val_accuracy: 0.3284\n",
            "Epoch 2/30\n",
            "26/26 - 5s - loss: 0.0649 - accuracy: 0.9851 - val_loss: 6.5681 - val_accuracy: 0.3284\n",
            "Epoch 3/30\n",
            "26/26 - 5s - loss: 0.1122 - accuracy: 0.9652 - val_loss: 5.6221 - val_accuracy: 0.2886\n",
            "Epoch 4/30\n",
            "26/26 - 5s - loss: 0.0739 - accuracy: 0.9826 - val_loss: 5.2514 - val_accuracy: 0.3234\n",
            "Epoch 5/30\n",
            "26/26 - 5s - loss: 0.0411 - accuracy: 0.9913 - val_loss: 5.1157 - val_accuracy: 0.3731\n",
            "Epoch 6/30\n",
            "26/26 - 5s - loss: 0.0180 - accuracy: 0.9950 - val_loss: 5.4779 - val_accuracy: 0.3383\n",
            "Epoch 7/30\n",
            "26/26 - 5s - loss: 0.0055 - accuracy: 0.9988 - val_loss: 5.6172 - val_accuracy: 0.3433\n",
            "Epoch 8/30\n",
            "26/26 - 5s - loss: 0.0042 - accuracy: 1.0000 - val_loss: 5.8004 - val_accuracy: 0.3383\n",
            "Epoch 9/30\n",
            "26/26 - 5s - loss: 0.0156 - accuracy: 0.9975 - val_loss: 6.1979 - val_accuracy: 0.3234\n",
            "Epoch 10/30\n",
            "26/26 - 5s - loss: 0.0094 - accuracy: 0.9963 - val_loss: 6.1740 - val_accuracy: 0.3383\n",
            "Epoch 11/30\n",
            "26/26 - 5s - loss: 0.0115 - accuracy: 0.9950 - val_loss: 6.0006 - val_accuracy: 0.3483\n",
            "Epoch 12/30\n",
            "26/26 - 5s - loss: 0.0118 - accuracy: 0.9963 - val_loss: 6.2543 - val_accuracy: 0.3333\n",
            "Epoch 13/30\n",
            "26/26 - 5s - loss: 0.0094 - accuracy: 0.9950 - val_loss: 5.9656 - val_accuracy: 0.3831\n",
            "Epoch 14/30\n",
            "26/26 - 5s - loss: 0.0174 - accuracy: 0.9938 - val_loss: 5.8036 - val_accuracy: 0.3632\n",
            "Epoch 15/30\n",
            "26/26 - 5s - loss: 0.0090 - accuracy: 0.9975 - val_loss: 5.8321 - val_accuracy: 0.3433\n",
            "Epoch 16/30\n",
            "26/26 - 5s - loss: 0.0188 - accuracy: 0.9963 - val_loss: 5.4707 - val_accuracy: 0.3881\n",
            "Epoch 17/30\n",
            "26/26 - 5s - loss: 0.0079 - accuracy: 0.9963 - val_loss: 5.7688 - val_accuracy: 0.3632\n",
            "Epoch 18/30\n",
            "26/26 - 5s - loss: 0.0069 - accuracy: 0.9975 - val_loss: 6.1125 - val_accuracy: 0.3483\n",
            "Epoch 19/30\n",
            "26/26 - 5s - loss: 0.0038 - accuracy: 0.9988 - val_loss: 6.1954 - val_accuracy: 0.3483\n",
            "Epoch 20/30\n",
            "26/26 - 5s - loss: 0.0034 - accuracy: 0.9975 - val_loss: 6.2828 - val_accuracy: 0.3582\n",
            "Epoch 21/30\n",
            "26/26 - 5s - loss: 0.0030 - accuracy: 0.9988 - val_loss: 6.3836 - val_accuracy: 0.3582\n",
            "Epoch 22/30\n",
            "26/26 - 5s - loss: 0.0068 - accuracy: 0.9975 - val_loss: 6.4741 - val_accuracy: 0.3632\n",
            "Epoch 23/30\n",
            "26/26 - 5s - loss: 0.0032 - accuracy: 0.9988 - val_loss: 6.4205 - val_accuracy: 0.3632\n",
            "Epoch 24/30\n",
            "26/26 - 5s - loss: 0.0049 - accuracy: 0.9988 - val_loss: 6.4349 - val_accuracy: 0.3532\n",
            "Epoch 25/30\n",
            "26/26 - 5s - loss: 0.0045 - accuracy: 0.9988 - val_loss: 6.4279 - val_accuracy: 0.3682\n",
            "Epoch 26/30\n",
            "26/26 - 5s - loss: 0.0059 - accuracy: 0.9975 - val_loss: 6.7007 - val_accuracy: 0.3582\n",
            "Epoch 27/30\n",
            "26/26 - 5s - loss: 0.0041 - accuracy: 0.9988 - val_loss: 6.7802 - val_accuracy: 0.3483\n",
            "Epoch 28/30\n",
            "26/26 - 5s - loss: 0.0110 - accuracy: 0.9988 - val_loss: 6.5365 - val_accuracy: 0.3682\n",
            "Epoch 29/30\n",
            "26/26 - 5s - loss: 0.0144 - accuracy: 0.9938 - val_loss: 7.3036 - val_accuracy: 0.3085\n",
            "Epoch 30/30\n",
            "26/26 - 5s - loss: 0.0091 - accuracy: 0.9963 - val_loss: 7.0015 - val_accuracy: 0.3184\n"
          ],
          "name": "stdout"
        }
      ]
    },
    {
      "cell_type": "code",
      "metadata": {
        "id": "bbXx76LFEpM_"
      },
      "source": [
        ""
      ],
      "execution_count": null,
      "outputs": []
    }
  ]
}