{
  "nbformat": 4,
  "nbformat_minor": 0,
  "metadata": {
    "colab": {
      "name": "SMS Spam Classification Project",
      "provenance": [],
      "collapsed_sections": [],
      "authorship_tag": "ABX9TyO6ZgziL3uDV4CbCHdvAzZ7",
      "include_colab_link": true
    },
    "kernelspec": {
      "name": "python3",
      "display_name": "Python 3"
    },
    "language_info": {
      "name": "python"
    }
  },
  "cells": [
    {
      "cell_type": "markdown",
      "metadata": {
        "id": "view-in-github",
        "colab_type": "text"
      },
      "source": [
        "<a href=\"https://colab.research.google.com/github/zakkaizzatur/Data-Related-Projects/blob/main/SMS_Spam_Classification_Project.ipynb\" target=\"_parent\"><img src=\"https://colab.research.google.com/assets/colab-badge.svg\" alt=\"Open In Colab\"/></a>"
      ]
    },
    {
      "cell_type": "markdown",
      "metadata": {
        "id": "9FuOffTGZb56"
      },
      "source": [
        "# **SMS Spam Classification Project**\n",
        "\n",
        "---\n",
        "\n",
        "## Konteks\n",
        "Permasalahan spam pada media pengiriman informasi merupakan masalah yang sering kita jumpai dalam kehidupan sehari-hari. Hal ini cukup mengganggu jika kita terus menerus mendapatkan pesan yang tidak kita butuhkan dalam jumlah yang banyak.\n",
        "\n",
        "Sepertinya akan sangat membantu jika ada teknologi yang dapat menyaring pesan yang masuk kedalam *device* kita dan membuang atau menandai terlebih dahulu pesan spam yang kita dapatkan.\n",
        "\n",
        "Untungnya, *machine learning* dapat menjawab tantangan ini. Dengan mempelajari berbagai jenis pesan yang tergolong dalam kategori spam atau bukan, kita dapat mengklasifikasikan jenis pesan yang kita dapatkan. Aplikasi nyata yang mungkin pernah kita lihat adalah penggunaannya pada penyedia layanan email yang dapat menyaring email dan memasukannya kedalam kategori-kategori tertentu. \n",
        "\n",
        "---\n",
        "\n",
        "## Dataset\n",
        "Pada *notebook* ini, dataset yang digunakan berasal dari Kaggle yang dapat diakses pada link berikut: [dataset](https://www.kaggle.com/uciml/sms-spam-collection-dataset)\n",
        "\n",
        "Dataset ini berisi 5574 SMS dalam bahasa Inggris yang telah diberi label \"spam\" untuk pesan spam dan label \"ham\" untuk pesan bukan spam.\n",
        "\n",
        "---\n",
        "##Proses Klasifikasi\n",
        "\n",
        "Proses klasifikasi yang akan dilakukan termasuk dalam Natural Language Processing(NLP). Langkah-langkah yang dilakukan pada project ini adalah sebagai berikut:\n",
        "\n",
        "\n",
        "1.   Eksplorasi dan pembersihan data\n",
        "2.   Tokenisasi & Padding kalimat\n",
        "3.   Pembuatan model DNN dengan menambahkan layer embedding dan LSTM\n",
        "4.   Pelatihan model\n",
        "5.   Pengecekan akurasi&loss model \n",
        "6.   Pengetesan model\n",
        "\n",
        "\n",
        "\n",
        "\n",
        "\n",
        "\n"
      ]
    },
    {
      "cell_type": "markdown",
      "metadata": {
        "id": "FNIt8VUydxgE"
      },
      "source": [
        "### Eksplorasi dan pembersihan data"
      ]
    },
    {
      "cell_type": "code",
      "metadata": {
        "id": "I8e7NNvreWMz"
      },
      "source": [
        "#import library utama\n",
        "import pandas as pd\n",
        "import numpy as np\n",
        "import matplotlib.pyplot as plt"
      ],
      "execution_count": null,
      "outputs": []
    },
    {
      "cell_type": "code",
      "metadata": {
        "id": "1vUK-AH9e7Ui"
      },
      "source": [
        "link = '/content/spam.csv'"
      ],
      "execution_count": null,
      "outputs": []
    },
    {
      "cell_type": "code",
      "metadata": {
        "id": "tSVCJAExe-Ro"
      },
      "source": [
        "df = pd.read_csv(link, encoding='latin') #membuka file csv"
      ],
      "execution_count": null,
      "outputs": []
    },
    {
      "cell_type": "code",
      "metadata": {
        "colab": {
          "base_uri": "https://localhost:8080/",
          "height": 203
        },
        "id": "I27X5-hhgQ0x",
        "outputId": "1c7d2db9-a8ed-485b-b845-08b02925ac2a"
      },
      "source": [
        "df.head() #cek 5 baris pertama pada file"
      ],
      "execution_count": null,
      "outputs": [
        {
          "output_type": "execute_result",
          "data": {
            "text/html": [
              "<div>\n",
              "<style scoped>\n",
              "    .dataframe tbody tr th:only-of-type {\n",
              "        vertical-align: middle;\n",
              "    }\n",
              "\n",
              "    .dataframe tbody tr th {\n",
              "        vertical-align: top;\n",
              "    }\n",
              "\n",
              "    .dataframe thead th {\n",
              "        text-align: right;\n",
              "    }\n",
              "</style>\n",
              "<table border=\"1\" class=\"dataframe\">\n",
              "  <thead>\n",
              "    <tr style=\"text-align: right;\">\n",
              "      <th></th>\n",
              "      <th>v1</th>\n",
              "      <th>v2</th>\n",
              "      <th>Unnamed: 2</th>\n",
              "      <th>Unnamed: 3</th>\n",
              "      <th>Unnamed: 4</th>\n",
              "    </tr>\n",
              "  </thead>\n",
              "  <tbody>\n",
              "    <tr>\n",
              "      <th>0</th>\n",
              "      <td>ham</td>\n",
              "      <td>Go until jurong point, crazy.. Available only ...</td>\n",
              "      <td>NaN</td>\n",
              "      <td>NaN</td>\n",
              "      <td>NaN</td>\n",
              "    </tr>\n",
              "    <tr>\n",
              "      <th>1</th>\n",
              "      <td>ham</td>\n",
              "      <td>Ok lar... Joking wif u oni...</td>\n",
              "      <td>NaN</td>\n",
              "      <td>NaN</td>\n",
              "      <td>NaN</td>\n",
              "    </tr>\n",
              "    <tr>\n",
              "      <th>2</th>\n",
              "      <td>spam</td>\n",
              "      <td>Free entry in 2 a wkly comp to win FA Cup fina...</td>\n",
              "      <td>NaN</td>\n",
              "      <td>NaN</td>\n",
              "      <td>NaN</td>\n",
              "    </tr>\n",
              "    <tr>\n",
              "      <th>3</th>\n",
              "      <td>ham</td>\n",
              "      <td>U dun say so early hor... U c already then say...</td>\n",
              "      <td>NaN</td>\n",
              "      <td>NaN</td>\n",
              "      <td>NaN</td>\n",
              "    </tr>\n",
              "    <tr>\n",
              "      <th>4</th>\n",
              "      <td>ham</td>\n",
              "      <td>Nah I don't think he goes to usf, he lives aro...</td>\n",
              "      <td>NaN</td>\n",
              "      <td>NaN</td>\n",
              "      <td>NaN</td>\n",
              "    </tr>\n",
              "  </tbody>\n",
              "</table>\n",
              "</div>"
            ],
            "text/plain": [
              "     v1  ... Unnamed: 4\n",
              "0   ham  ...        NaN\n",
              "1   ham  ...        NaN\n",
              "2  spam  ...        NaN\n",
              "3   ham  ...        NaN\n",
              "4   ham  ...        NaN\n",
              "\n",
              "[5 rows x 5 columns]"
            ]
          },
          "metadata": {
            "tags": []
          },
          "execution_count": 152
        }
      ]
    },
    {
      "cell_type": "markdown",
      "metadata": {
        "id": "_wvfvqYLp2EH"
      },
      "source": [
        "Dapat terlihat bahwa terdapat 3 kolom yang berisi NaN, maka harus dilakukan *data cleaning* dengan membuang 3 kolom tersebut"
      ]
    },
    {
      "cell_type": "code",
      "metadata": {
        "id": "M0YQm_IzfBTb"
      },
      "source": [
        "df.drop(columns=df.iloc[:,2:], inplace=True) #membuang kolom ketiga sampai kelima"
      ],
      "execution_count": null,
      "outputs": []
    },
    {
      "cell_type": "code",
      "metadata": {
        "colab": {
          "base_uri": "https://localhost:8080/",
          "height": 203
        },
        "id": "F0ocuiwwfBwJ",
        "outputId": "a94ee731-fa24-46e2-cb3d-1b4e8a2bdbc7"
      },
      "source": [
        "df.head()"
      ],
      "execution_count": null,
      "outputs": [
        {
          "output_type": "execute_result",
          "data": {
            "text/html": [
              "<div>\n",
              "<style scoped>\n",
              "    .dataframe tbody tr th:only-of-type {\n",
              "        vertical-align: middle;\n",
              "    }\n",
              "\n",
              "    .dataframe tbody tr th {\n",
              "        vertical-align: top;\n",
              "    }\n",
              "\n",
              "    .dataframe thead th {\n",
              "        text-align: right;\n",
              "    }\n",
              "</style>\n",
              "<table border=\"1\" class=\"dataframe\">\n",
              "  <thead>\n",
              "    <tr style=\"text-align: right;\">\n",
              "      <th></th>\n",
              "      <th>v1</th>\n",
              "      <th>v2</th>\n",
              "    </tr>\n",
              "  </thead>\n",
              "  <tbody>\n",
              "    <tr>\n",
              "      <th>0</th>\n",
              "      <td>ham</td>\n",
              "      <td>Go until jurong point, crazy.. Available only ...</td>\n",
              "    </tr>\n",
              "    <tr>\n",
              "      <th>1</th>\n",
              "      <td>ham</td>\n",
              "      <td>Ok lar... Joking wif u oni...</td>\n",
              "    </tr>\n",
              "    <tr>\n",
              "      <th>2</th>\n",
              "      <td>spam</td>\n",
              "      <td>Free entry in 2 a wkly comp to win FA Cup fina...</td>\n",
              "    </tr>\n",
              "    <tr>\n",
              "      <th>3</th>\n",
              "      <td>ham</td>\n",
              "      <td>U dun say so early hor... U c already then say...</td>\n",
              "    </tr>\n",
              "    <tr>\n",
              "      <th>4</th>\n",
              "      <td>ham</td>\n",
              "      <td>Nah I don't think he goes to usf, he lives aro...</td>\n",
              "    </tr>\n",
              "  </tbody>\n",
              "</table>\n",
              "</div>"
            ],
            "text/plain": [
              "     v1                                                 v2\n",
              "0   ham  Go until jurong point, crazy.. Available only ...\n",
              "1   ham                      Ok lar... Joking wif u oni...\n",
              "2  spam  Free entry in 2 a wkly comp to win FA Cup fina...\n",
              "3   ham  U dun say so early hor... U c already then say...\n",
              "4   ham  Nah I don't think he goes to usf, he lives aro..."
            ]
          },
          "metadata": {
            "tags": []
          },
          "execution_count": 154
        }
      ]
    },
    {
      "cell_type": "markdown",
      "metadata": {
        "id": "stZX3rFfqMEg"
      },
      "source": [
        "Nama kolom yang terdapat pada dataframe kurang mudah dimengerti, maka diganti menjadi 'spam' dan 'sentence'"
      ]
    },
    {
      "cell_type": "code",
      "metadata": {
        "id": "-_BTFJ5Ygn2s"
      },
      "source": [
        "df.rename(columns={'v1':'spam','v2':'sentence'}, inplace=True)"
      ],
      "execution_count": null,
      "outputs": []
    },
    {
      "cell_type": "markdown",
      "metadata": {
        "id": "YCQvW_MJqbbJ"
      },
      "source": [
        "Eksplorasi data dengan menggunakan barplot untuk mengetahui jumlah banyaknya pesan pada tiap kategori"
      ]
    },
    {
      "cell_type": "code",
      "metadata": {
        "colab": {
          "base_uri": "https://localhost:8080/",
          "height": 337
        },
        "id": "sCOeua5YV3jo",
        "outputId": "362d370a-03d0-463d-e0a9-a7ed89836627"
      },
      "source": [
        "df.spam.value_counts().plot(kind='bar', color=['red','blue'])\n",
        "positions = (0,1)\n",
        "labels = (\"spam\", \"ham\")\n",
        "plt.xticks(positions, labels)"
      ],
      "execution_count": null,
      "outputs": [
        {
          "output_type": "execute_result",
          "data": {
            "text/plain": [
              "([<matplotlib.axis.XTick at 0x7f16e3d7c690>,\n",
              "  <matplotlib.axis.XTick at 0x7f16e3d7c650>],\n",
              " [Text(0, 0, 'spam'), Text(0, 0, 'ham')])"
            ]
          },
          "metadata": {
            "tags": []
          },
          "execution_count": 156
        },
        {
          "output_type": "display_data",
          "data": {
            "image/png": "[encoded data removed]",
            "text/plain": [
              "<Figure size 432x288 with 1 Axes>"
            ]
          },
          "metadata": {
            "tags": [],
            "needs_background": "light"
          }
        }
      ]
    },
    {
      "cell_type": "markdown",
      "metadata": {
        "id": "O-oDzDYwqi75"
      },
      "source": [
        "Dapat dilihat bahwa pesan dalam kategori spam jauh lebih banyak daripada ham, hampir 5x lipatnya. Walaupun perbedaan antar kategori yang besar dapat menyebabkan kemungkinan *bias* pada hasil prediksi, tetapi data ini tetap dapat digunakan karena kedua kategori dapat memberikan pembendaharaan kata yang lebih besar, jika dibandingkan dengan menyeimbangkan data untuk kedua kategori."
      ]
    },
    {
      "cell_type": "code",
      "metadata": {
        "id": "l1k099yFg18A"
      },
      "source": [
        "df.spam = df.spam.apply({'ham':0,'spam':1}.get) #melakukan encoding untuk kedua kategori"
      ],
      "execution_count": null,
      "outputs": []
    },
    {
      "cell_type": "code",
      "metadata": {
        "id": "LRF2zSN9g3O_"
      },
      "source": [
        "sentence = df.sentence.values #mengambil data tiap pesan\n",
        "label = df.spam.values #mengambil data label (0/1)"
      ],
      "execution_count": null,
      "outputs": []
    },
    {
      "cell_type": "markdown",
      "metadata": {
        "id": "bs5UsaUarjLT"
      },
      "source": [
        "### Tokenisasi & Padding kalimat"
      ]
    },
    {
      "cell_type": "markdown",
      "metadata": {
        "id": "ulPpy94Errbt"
      },
      "source": [
        "Import library-library yang relevan"
      ]
    },
    {
      "cell_type": "code",
      "metadata": {
        "id": "gO_zemKmhBu3"
      },
      "source": [
        "from sklearn.model_selection import train_test_split\n",
        "sentence_latih, sentence_test, label_latih, label_test = train_test_split(sentence, label, test_size=0.2) #melakukan pembagian dataset untuk digunakan sebagai pelatihan dan test"
      ],
      "execution_count": null,
      "outputs": []
    },
    {
      "cell_type": "code",
      "metadata": {
        "id": "wWfZLhKwhmBw"
      },
      "source": [
        "from tensorflow.keras.preprocessing.text import Tokenizer\n",
        "from tensorflow.keras.preprocessing.sequence import pad_sequences"
      ],
      "execution_count": null,
      "outputs": []
    },
    {
      "cell_type": "code",
      "metadata": {
        "id": "7rnS_3kEh17f"
      },
      "source": [
        "# Menentukan hyperparameter yang akan digunakan pada proses tokenisasi kalimat\n",
        "max_len = 50 \n",
        "trunc_type = \"post\" \n",
        "padding_type = \"post\" \n",
        "oov_token = \"x\" \n",
        "vocab_size = 5000"
      ],
      "execution_count": null,
      "outputs": []
    },
    {
      "cell_type": "code",
      "metadata": {
        "id": "hGocRtfyuXCS"
      },
      "source": [
        "# Membuat objek tokenizer\n",
        "tokenizer = Tokenizer(num_words=vocab_size, oov_token=oov_token)"
      ],
      "execution_count": null,
      "outputs": []
    },
    {
      "cell_type": "code",
      "metadata": {
        "id": "p1Wa5Gbnu70C"
      },
      "source": [
        "# Tokenisasi pada kalimat pelatihan dan test\n",
        "tokenizer.fit_on_texts(sentence_latih)\n",
        "tokenizer.fit_on_texts(sentence_test)\n",
        "\n",
        "# Mengubah kalimat ke dalam nilai sesuai dengan hasil tokenisasi\n",
        "sekuens_latih = tokenizer.texts_to_sequences(sentence_latih)\n",
        "sekuens_test = tokenizer.texts_to_sequences(sentence_test)\n",
        "\n",
        "# Memberikan padding agar panjang sequence untuk tiap kalimat sama.\n",
        "padded_latih = pad_sequences(sekuens_latih,maxlen=max_len,padding=padding_type,truncating=trunc_type)\n",
        "padded_test = pad_sequences(sekuens_test,maxlen=max_len,padding=padding_type,truncating=trunc_type)"
      ],
      "execution_count": null,
      "outputs": []
    },
    {
      "cell_type": "markdown",
      "metadata": {
        "id": "BK3G5eP2s5m6"
      },
      "source": [
        "### Pembuatan model DNN dengan menambahkan layer embedding dan LSTM"
      ]
    },
    {
      "cell_type": "code",
      "metadata": {
        "id": "S2h-Yw9RvMd1"
      },
      "source": [
        "# Menentukan hyperparameter yang digunakan dalam pembuatan model DNN\n",
        "embeding_dim = 16\n",
        "drop_value = 0.5 # dropout"
      ],
      "execution_count": null,
      "outputs": []
    },
    {
      "cell_type": "code",
      "metadata": {
        "id": "8QyStaFSvzOG"
      },
      "source": [
        "# Modeling \n",
        "from tensorflow.keras.callbacks import EarlyStopping\n",
        "from tensorflow.keras.models import Sequential\n",
        "from tensorflow.keras.layers import Embedding, GlobalAveragePooling1D, Dense, Dropout, LSTM, Bidirectional\n",
        "\n",
        "model=Sequential()\n",
        "model.add(Embedding(vocab_size,embeding_dim,input_length=max_len))\n",
        "model.add(LSTM(64))\n",
        "model.add(Dense(128, activation='relu'))\n",
        "model.add(Dropout(drop_value))\n",
        "model.add(Dense(64, activation='relu'))\n",
        "model.add(Dropout(drop_value))\n",
        "model.add(Dense(32, activation='relu'))\n",
        "model.add(Dense(1, activation='sigmoid'))"
      ],
      "execution_count": null,
      "outputs": []
    },
    {
      "cell_type": "code",
      "metadata": {
        "colab": {
          "base_uri": "https://localhost:8080/"
        },
        "id": "SRyeDLjHLAsV",
        "outputId": "a2e55103-9825-473a-b7e4-ef58603de97f"
      },
      "source": [
        "#Daftar layer pada DNN\n",
        "model.summary()"
      ],
      "execution_count": null,
      "outputs": [
        {
          "output_type": "stream",
          "text": [
            "Model: \"sequential_8\"\n",
            "_________________________________________________________________\n",
            "Layer (type)                 Output Shape              Param #   \n",
            "=================================================================\n",
            "embedding_8 (Embedding)      (None, 50, 16)            80000     \n",
            "_________________________________________________________________\n",
            "lstm_6 (LSTM)                (None, 64)                20736     \n",
            "_________________________________________________________________\n",
            "dense_22 (Dense)             (None, 128)               8320      \n",
            "_________________________________________________________________\n",
            "dropout_11 (Dropout)         (None, 128)               0         \n",
            "_________________________________________________________________\n",
            "dense_23 (Dense)             (None, 64)                8256      \n",
            "_________________________________________________________________\n",
            "dropout_12 (Dropout)         (None, 64)                0         \n",
            "_________________________________________________________________\n",
            "dense_24 (Dense)             (None, 32)                2080      \n",
            "_________________________________________________________________\n",
            "dense_25 (Dense)             (None, 1)                 33        \n",
            "=================================================================\n",
            "Total params: 119,425\n",
            "Trainable params: 119,425\n",
            "Non-trainable params: 0\n",
            "_________________________________________________________________\n"
          ],
          "name": "stdout"
        }
      ]
    },
    {
      "cell_type": "code",
      "metadata": {
        "id": "V8jjav_TL3G3"
      },
      "source": [
        "model.compile(loss='binary_crossentropy',optimizer='adam',metrics=['accuracy'])"
      ],
      "execution_count": null,
      "outputs": []
    },
    {
      "cell_type": "markdown",
      "metadata": {
        "id": "ImmXZRQetCFy"
      },
      "source": [
        "### Pelatihan Model DNN\n",
        "\n",
        "Pada pelatihan model DNN, digunakan fitur *callback* *early stopping* untuk menghentikan pelatihan model saat sudah mencapai tren loss tertentu."
      ]
    },
    {
      "cell_type": "code",
      "metadata": {
        "colab": {
          "base_uri": "https://localhost:8080/"
        },
        "id": "SjzJDiK0L6TC",
        "outputId": "5118c692-47ac-408e-a1ce-be44578429ab"
      },
      "source": [
        "#Pelatihan DNN \n",
        "num_epochs = 30 #Banyaknya pelatihan\n",
        "earlystop = EarlyStopping(monitor='val_loss', patience=3) #Setting fitur early stopping untuk callback, nilai patience dipilih sebagai batas nilai epoch dimana sebuah pelatihan tidak memberikan peningkatan performa apapun\n",
        "history = model.fit(padded_latih, label_latih, epochs=num_epochs, validation_data=(padded_test, label_test), callbacks =[earlystop], verbose=2)"
      ],
      "execution_count": null,
      "outputs": [
        {
          "output_type": "stream",
          "text": [
            "Epoch 1/30\n",
            "140/140 - 7s - loss: 0.3186 - accuracy: 0.8941 - val_loss: 0.1595 - val_accuracy: 0.9722\n",
            "Epoch 2/30\n",
            "140/140 - 4s - loss: 0.0783 - accuracy: 0.9829 - val_loss: 0.0465 - val_accuracy: 0.9883\n",
            "Epoch 3/30\n",
            "140/140 - 4s - loss: 0.0295 - accuracy: 0.9915 - val_loss: 0.0443 - val_accuracy: 0.9892\n",
            "Epoch 4/30\n",
            "140/140 - 4s - loss: 0.0336 - accuracy: 0.9906 - val_loss: 0.0694 - val_accuracy: 0.9758\n",
            "Epoch 5/30\n",
            "140/140 - 4s - loss: 0.0310 - accuracy: 0.9921 - val_loss: 0.0507 - val_accuracy: 0.9910\n",
            "Epoch 6/30\n",
            "140/140 - 4s - loss: 0.0050 - accuracy: 0.9984 - val_loss: 0.0730 - val_accuracy: 0.9865\n"
          ],
          "name": "stdout"
        }
      ]
    },
    {
      "cell_type": "markdown",
      "metadata": {
        "id": "0lVRtB_VuNg-"
      },
      "source": [
        "Pelatihan DNN berhenti pada epoch ke 6 dengan akurasi validasi sebesar 98.65%"
      ]
    },
    {
      "cell_type": "markdown",
      "metadata": {
        "id": "fTqoOzyXuX1G"
      },
      "source": [
        "### Pengecekan akurasi&loss model"
      ]
    },
    {
      "cell_type": "code",
      "metadata": {
        "colab": {
          "base_uri": "https://localhost:8080/"
        },
        "id": "qv8AlSz1MB03",
        "outputId": "f22233f6-6f92-47ca-d53e-cd3acc07c386"
      },
      "source": [
        "model.evaluate(padded_test,label_test) #evaluasi model terhadap data testing"
      ],
      "execution_count": null,
      "outputs": [
        {
          "output_type": "stream",
          "text": [
            "35/35 [==============================] - 0s 8ms/step - loss: 0.0730 - accuracy: 0.9865\n"
          ],
          "name": "stdout"
        },
        {
          "output_type": "execute_result",
          "data": {
            "text/plain": [
              "[0.07299749553203583, 0.9865471124649048]"
            ]
          },
          "metadata": {
            "tags": []
          },
          "execution_count": 175
        }
      ]
    },
    {
      "cell_type": "markdown",
      "metadata": {
        "id": "bX0RHpenueuG"
      },
      "source": [
        "Menggambar plot loss dan accuracy untuk melihat perkembangan model pada tiap epoch"
      ]
    },
    {
      "cell_type": "code",
      "metadata": {
        "colab": {
          "base_uri": "https://localhost:8080/",
          "height": 231
        },
        "id": "h1IPEpVyMt81",
        "outputId": "3ed95600-3189-48b7-e057-8b53d5e43f09"
      },
      "source": [
        "hist=history\n",
        "loss = hist.history['loss']\n",
        "val_loss = hist.history['val_loss']\n",
        "\n",
        "accuracy = hist.history['accuracy']\n",
        "val_accuracy = hist.history['val_accuracy']\n",
        "\n",
        "plt.figure(figsize=(14, 4))\n",
        "\n",
        "plt.subplot(1, 2, 1)\n",
        "plt.title('Loss')\n",
        "plt.xlabel('Epoch')\n",
        "plt.ylabel('Loss')\n",
        "plt.plot(loss, label='Training set')\n",
        "plt.plot(val_loss, label='Test set', linestyle='--')\n",
        "plt.legend()\n",
        "\n",
        "plt.subplot(1, 2, 2)\n",
        "plt.title('Accuracy')\n",
        "plt.xlabel('Epoch')\n",
        "plt.ylabel('Accuracy')\n",
        "plt.plot(accuracy, label='Training set')\n",
        "plt.plot(val_accuracy, label='Test set', linestyle='--')\n",
        "plt.legend()\n",
        "\n",
        "plt.show()"
      ],
      "execution_count": null,
      "outputs": [
        {
          "output_type": "display_data",
          "data": {
            "image/png": "[encoded data removed]",
            "text/plain": [
              "<Figure size 1008x288 with 2 Axes>"
            ]
          },
          "metadata": {
            "tags": [],
            "needs_background": "light"
          }
        }
      ]
    },
    {
      "cell_type": "markdown",
      "metadata": {
        "id": "hbQmuXp7vgCw"
      },
      "source": [
        "### Pengetesan model"
      ]
    },
    {
      "cell_type": "code",
      "metadata": {
        "id": "JrfbQCWWM_B5"
      },
      "source": [
        "# Membuat fungsi untuk mengecek pesan tertentu\n",
        "def cekpesan(sentence):\n",
        "  sekuenspesan=tokenizer.texts_to_sequences([sentence])\n",
        "  padded=pad_sequences(sekuenspesan,maxlen=max_len,padding=padding_type,truncating=trunc_type)\n",
        "  prediksi=(model.predict(padded))\n",
        "  labelpesan=\"ham\"\n",
        "  skor=prediksi[0][0]\n",
        "  if skor >= 0.3:\n",
        "    labelpesan=\"spam\"\n",
        "  prediksi=[skor,labelpesan]\n",
        "  return (prediksi)"
      ],
      "execution_count": null,
      "outputs": []
    },
    {
      "cell_type": "code",
      "metadata": {
        "colab": {
          "base_uri": "https://localhost:8080/"
        },
        "id": "oBeZyd1LONC1",
        "outputId": "9934c9ae-7315-409e-9652-3782f4169c0b"
      },
      "source": [
        "# Cek pesan non-spam\n",
        "pred_text = \"Spam is an unsolicited email message that is automatically sent to a large number of addresses at once\"\n",
        "\n",
        "cekpesan(pred_text)"
      ],
      "execution_count": null,
      "outputs": [
        {
          "output_type": "execute_result",
          "data": {
            "text/plain": [
              "[0.00034192204, 'ham']"
            ]
          },
          "metadata": {
            "tags": []
          },
          "execution_count": 182
        }
      ]
    },
    {
      "cell_type": "code",
      "metadata": {
        "colab": {
          "base_uri": "https://localhost:8080/"
        },
        "id": "BsO46_LLOQAh",
        "outputId": "cd062904-488f-4aff-9e3a-f22b951e5373"
      },
      "source": [
        "# Cek pesan spam\n",
        "pred_text = \"sale today! to stop texts call 98912460324\"\n",
        "\n",
        "cekpesan(pred_text)"
      ],
      "execution_count": null,
      "outputs": [
        {
          "output_type": "execute_result",
          "data": {
            "text/plain": [
              "[0.9999708, 'spam']"
            ]
          },
          "metadata": {
            "tags": []
          },
          "execution_count": 184
        }
      ]
    },
    {
      "cell_type": "code",
      "metadata": {
        "id": "Pv30quEJv28b"
      },
      "source": [
        ""
      ],
      "execution_count": null,
      "outputs": []
    }
  ]
}